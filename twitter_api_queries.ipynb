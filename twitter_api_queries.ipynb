{
 "cells": [
  {
   "cell_type": "code",
   "execution_count": null,
   "metadata": {},
   "outputs": [],
   "source": []
  },
  {
   "cell_type": "code",
   "execution_count": null,
   "metadata": {},
   "outputs": [],
   "source": [
    "# Search Twitter for Tweets\n",
    "\n",
    "# example #wildfires hashtag. You will use the .Cursor method to get an object containing tweets containing \n",
    "# the hashtag #wildfires.\n",
    "\n",
    "# To create this query, you will define the:\n",
    "\n",
    "# Search term - in this case #wildfires\n",
    "# the start date of your search\n",
    "# Remember that the Twitter API only allows you to access the past few weeks of tweets, so you cannot dig into \n",
    "# the history too far.\n",
    "\n",
    "# Define the search term and the date_since date as variables\n",
    "\n",
    "search_words = \"#wildfires\"\n",
    "date_since = \"2018-11-16\""
   ]
  },
  {
   "cell_type": "code",
   "execution_count": null,
   "metadata": {},
   "outputs": [],
   "source": [
    "# Collect tweets\n",
    "tweets = tw.Cursor(api.search,\n",
    "              q=search_words,\n",
    "              lang=\"en\",\n",
    "              since=date_since).items(5)\n",
    "tweets\n",
    "\n",
    "# Iterate and print tweets\n",
    "for tweet in tweets:\n",
    "    print(tweet.text)\n",
    "    \n",
    "# Collect a list of tweets\n",
    "[tweet.text for tweet in tweets]\n",
    "\n",
    "# Who is tweeting about this specific hashtag?\n",
    "tweets = tw.Cursor(api.search, \n",
    "                           q=new_search,\n",
    "                           lang=\"en\",\n",
    "                           since=date_since).items(5)\n",
    "\n",
    "users_locs = [[tweet.user.screen_name, tweet.user.location] for tweet in tweets]\n",
    "users_locs\n",
    "[['armonia_bolivia', 'Bolivia'],\n",
    " ['RagusoSergio', 'Switzerland'],\n",
    " ['WillMatlack', 'SF Bay Area'],\n",
    " ['climateandlife', 'Columbia University'],\n",
    " ['C21dynamic21', '']]\n",
    "\n"
   ]
  },
  {
   "cell_type": "code",
   "execution_count": null,
   "metadata": {},
   "outputs": [],
   "source": [
    "# Post a tweet from Python\n",
    "api.update_status(\"Look, I'm tweeting from #Python in my #earthanalytics class! @EarthLabCU\")\n",
    "# Your tweet has been posted!"
   ]
  },
  {
   "cell_type": "code",
   "execution_count": null,
   "metadata": {},
   "outputs": [],
   "source": [
    "# For instance, if you search for climate+change, Twitter will return all tweets that contain both of those \n",
    "# words (in a row) in each tweet.\n",
    "\n",
    "# Note that the code below creates a list that can be queried using Python indexing to return the first \n",
    "# five tweets.\n",
    "\n",
    "new_search = \"climate+change -filter:retweets\"\n",
    "\n",
    "tweets = tw.Cursor(api.search,\n",
    "                   q=new_search,\n",
    "                   lang=\"en\",\n",
    "                   since='2018-04-23').items(1000)\n",
    "\n",
    "all_tweets = [tweet.text for tweet in tweets]\n",
    "all_tweets[:5]"
   ]
  }
 ],
 "metadata": {
  "kernelspec": {
   "display_name": "Python 3",
   "language": "python",
   "name": "python3"
  },
  "language_info": {
   "codemirror_mode": {
    "name": "ipython",
    "version": 3
   },
   "file_extension": ".py",
   "mimetype": "text/x-python",
   "name": "python",
   "nbconvert_exporter": "python",
   "pygments_lexer": "ipython3",
   "version": "3.7.4"
  },
  "toc": {
   "base_numbering": 1,
   "nav_menu": {},
   "number_sections": true,
   "sideBar": true,
   "skip_h1_title": false,
   "title_cell": "Table of Contents",
   "title_sidebar": "Contents",
   "toc_cell": false,
   "toc_position": {},
   "toc_section_display": true,
   "toc_window_display": false
  }
 },
 "nbformat": 4,
 "nbformat_minor": 2
}
