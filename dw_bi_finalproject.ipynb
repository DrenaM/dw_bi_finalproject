{
 "cells": [
  {
   "cell_type": "code",
   "execution_count": 49,
   "metadata": {},
   "outputs": [],
   "source": [
    "# Let's see how to make a get request to the API: \n",
    "import requests\n",
    "import json\n",
    "from requests.auth import HTTPBasicAuth\n",
    "\n",
    "import tweepy as tw\n",
    "import pandas as pd\n",
    "import json\n",
    "\n",
    "\n",
    "# First you will need define your keys\n",
    "\n",
    "consumer_key= 'rw6lFx52m6hKOoF1Ggz8N7sTN'\n",
    "consumer_secret= 'gsjww3WFLlEQJ2qbcuWi4aBcx7QOq1K7ZGKq2frxwovJUXPKYB'\n",
    "access_token= '952676587408904192-9ch5sokd2mcTVbDTchX2YyZW9hSNJZT'\n",
    "access_token_secret= 'o70taGpNJc35C71OLjZPWsK6yZJ3KYXxqeryfnizqOSIs'\n",
    "\n",
    "auth = tw.OAuthHandler(consumer_key, consumer_secret)\n",
    "auth.set_access_token(access_token, access_token_secret)\n",
    "api = tw.API(auth, wait_on_rate_limit=True)\n",
    "\n",
    "search_words = [\"#love\"]\n",
    "date_since = \"2018-11-16\"\n",
    "\n",
    "limit = 50\n",
    "i = 0\n",
    "tweets = {}\n",
    "for tweet in tw.Cursor(api.search, q=search_words,\n",
    "                       lang=\"en\", since=date_since).items(10):\n",
    "    tweets[i] = tweet._json\n",
    "    i += 1\n",
    "#     tweets.update(tweet._json)\n",
    "\n",
    "# with open('tweet_sample.json', 'w') as f:\n",
    "#     json.dump(tweets, f)"
   ]
  },
  {
   "cell_type": "code",
   "execution_count": 51,
   "metadata": {},
   "outputs": [
    {
     "name": "stdout",
     "output_type": "stream",
     "text": [
      "Collecting pymongo\n",
      "\u001b[?25l  Downloading https://files.pythonhosted.org/packages/a3/8c/ec46f4aa95515989711a7893e64c30f9d33c58eaccc01f8f37c4513739a2/pymongo-3.9.0-cp37-cp37m-macosx_10_6_intel.whl (378kB)\n",
      "\u001b[K     |████████████████████████████████| 378kB 1.0MB/s eta 0:00:01\n",
      "\u001b[?25hInstalling collected packages: pymongo\n",
      "Successfully installed pymongo-3.9.0\n"
     ]
    }
   ],
   "source": [
    "! pip install pymongo"
   ]
  },
  {
   "cell_type": "code",
   "execution_count": 52,
   "metadata": {},
   "outputs": [],
   "source": [
    "from pymongo import MongoClient"
   ]
  },
  {
   "cell_type": "code",
   "execution_count": null,
   "metadata": {},
   "outputs": [],
   "source": [
    "# Create connection to MongoDB\n",
    "client = MongoClient('localhost', 27017)\n",
    "db = client['name_of_database']\n",
    "collection = db['name_of_collection']\n",
    "\n",
    "# Build a basic dictionary\n",
    "d = {'website': 'www.carrefax.com', 'author': 'Daniel Hoadley', 'colour': 'purple'}\n",
    "\n",
    "# Insert the dictionary into Mongo\n",
    "collection.insert(d)"
   ]
  }
 ],
 "metadata": {
  "kernelspec": {
   "display_name": "Python 3",
   "language": "python",
   "name": "python3"
  },
  "language_info": {
   "codemirror_mode": {
    "name": "ipython",
    "version": 3
   },
   "file_extension": ".py",
   "mimetype": "text/x-python",
   "name": "python",
   "nbconvert_exporter": "python",
   "pygments_lexer": "ipython3",
   "version": "3.7.4"
  },
  "toc": {
   "base_numbering": 1,
   "nav_menu": {},
   "number_sections": true,
   "sideBar": true,
   "skip_h1_title": false,
   "title_cell": "Table of Contents",
   "title_sidebar": "Contents",
   "toc_cell": false,
   "toc_position": {},
   "toc_section_display": true,
   "toc_window_display": false
  }
 },
 "nbformat": 4,
 "nbformat_minor": 2
}
